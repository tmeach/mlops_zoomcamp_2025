{
 "cells": [
  {
   "cell_type": "markdown",
   "id": "dd1d7ae7-6f78-4b1a-b33e-57546fe5d6b7",
   "metadata": {},
   "source": [
    "## [Homework](https://github.com/DataTalksClub/mlops-zoomcamp/blob/main/cohorts/2024/06-best-practices/homework.md)\n",
    "In this homework, we'll take the ride duration prediction model that we deployed in batch mode in homework 4 and improve the reliability of our code with unit and integration tests.\n",
    "\n",
    "You'll find the starter code in the [homework](https://github.com/DataTalksClub/mlops-zoomcamp/blob/main/cohorts/2024/06-best-practices/homework) directory."
   ]
  },
  {
   "cell_type": "markdown",
   "id": "262d308c-1524-4d50-9eb5-c8f94938de63",
   "metadata": {},
   "source": [
    "## Q1. Refactoring\n",
    "Before we can start covering our code with tests, we need to refactor it. We'll start by getting rid of all the global variables.\n",
    "\n",
    "Let's create a function ```main``` with two parameters: ```year``` and ```month```.\n",
    "Move all the code (except ```read_data```) inside ```main```\n",
    "Make ```categorical``` a parameter for ```read_data``` and pass it inside ```main```\n",
    "Now we need to create the \"main\" block from which we'll invoke the main function. How does the if statement that we use for this looks like?"
   ]
  },
  {
   "cell_type": "markdown",
   "id": "710c52ba-996a-469c-879a-6c9de3348c11",
   "metadata": {},
   "source": [
    "if __name__ == '__main__':\n",
    "    year = int(sys.argv[1])\n",
    "    month = int(sys.argv[2])\n",
    "    main(year, month)"
   ]
  },
  {
   "cell_type": "code",
   "execution_count": 1,
   "id": "0401e2e2-373f-48e0-9e2e-b53870ae7fc4",
   "metadata": {},
   "outputs": [],
   "source": [
    "import sys\n",
    "import pickle\n",
    "import pandas as pd"
   ]
  },
  {
   "cell_type": "code",
   "execution_count": 2,
   "id": "73e6aec9-d33e-49ac-be34-f58cfff296e2",
   "metadata": {},
   "outputs": [],
   "source": [
    "def main (year, month):\n",
    "    year = int(sys.argv[1])\n",
    "    month = int(sys.argv[2])\n",
    "    \n",
    "    input_file = f'https://d37ci6vzurychx.cloudfront.net/trip-data/yellow_tripdata_{year:04d}-{month:02d}.parquet'\n",
    "    output_file = f'output/yellow_tripdata_{year:04d}-{month:02d}.parquet'\n",
    "    \n",
    "    with open('model.bin', 'rb') as f_in:\n",
    "        dv, lr = pickle.load(f_in)\n",
    "\n",
    "    categorical = ['PULocationID', 'DOLocationID']\n",
    "    \n",
    "\n",
    "def read_data(filename, categorical):\n",
    "    df = pd.read_parquet(filename)\n",
    "    \n",
    "    df['duration'] = df.tpep_dropoff_datetime - df.tpep_pickup_datetime\n",
    "    df['duration'] = df.duration.dt.total_seconds() / 60\n",
    "\n",
    "    df = df[(df.duration >= 1) & (df.duration <= 60)].copy()\n",
    "\n",
    "    df[categorical] = df[categorical].fillna(-1).astype('int').astype('str')\n",
    "    \n",
    "    return df"
   ]
  },
  {
   "cell_type": "markdown",
   "id": "ce8b268e-c091-475b-a345-20358855a34b",
   "metadata": {},
   "source": [
    "## Q2. Installing pytest\n",
    "Now we need to install pytest:\n",
    "\n",
    "bash```\n",
    "pipenv install --dev pytest```\n",
    "\n",
    "Next, create a folder tests and create two files. One will be the file with tests. We can name it test_batch.py.\n",
    "\n",
    "What should be the other file?"
   ]
  },
  {
   "cell_type": "markdown",
   "id": "2ee68715-6cc9-469e-b0e8-0d06523a3b6f",
   "metadata": {},
   "source": [
    "### Answer:\n",
    "\n",
    "```__init__.py```"
   ]
  },
  {
   "cell_type": "markdown",
   "id": "2c490977-a3fb-4ac0-98a5-780f9005a124",
   "metadata": {},
   "source": [
    "## Q3. Writing first unit test\n",
    "Now let's cover our code with unit tests.\n",
    "\n",
    "We'll start with the pre-processing logic inside read_data.\n",
    "\n",
    "It's difficult to test right now because first reads the file and then performs some transformations. We need to split this code into two parts: reading (I/O) and transformation.\n",
    "\n",
    "So let's create a function prepare_data that takes in a dataframe (and some other parameters too) and applies some transformation to it.\n",
    "\n",
    "(That's basically the entire read_data function after reading the parquet file)\n",
    "\n",
    "Now create a test and use this as input:"
   ]
  },
  {
   "cell_type": "code",
   "execution_count": 6,
   "id": "91adb679-82a3-43ed-8cbb-12e836bdb964",
   "metadata": {},
   "outputs": [],
   "source": [
    "import pandas as pd \n",
    "from datetime import datetime\n",
    "\n",
    "from datetime import datetime\n",
    "\n",
    "def dt(hour, minute, second=0):\n",
    "    return datetime(2023, 1, 1, hour, minute, second)\n",
    "\n",
    "\n",
    "data = [\n",
    "    (None, None, dt(1, 1), dt(1, 10)),\n",
    "    (1, 1, dt(1, 2), dt(1, 10)),\n",
    "    (1, None, dt(1, 2, 0), dt(1, 2, 59)),\n",
    "    (3, 4, dt(1, 2, 0), dt(2, 2, 1)),      \n",
    "]\n",
    "\n",
    "columns = ['PULocationID', 'DOLocationID', 'tpep_pickup_datetime', 'tpep_dropoff_datetime']\n",
    "df = pd.DataFrame(data, columns=columns)"
   ]
  },
  {
   "cell_type": "code",
   "execution_count": 8,
   "id": "c01a56b2-e47b-4459-870f-5a3b8ebfd528",
   "metadata": {},
   "outputs": [
    {
     "data": {
      "text/html": [
       "<div>\n",
       "<style scoped>\n",
       "    .dataframe tbody tr th:only-of-type {\n",
       "        vertical-align: middle;\n",
       "    }\n",
       "\n",
       "    .dataframe tbody tr th {\n",
       "        vertical-align: top;\n",
       "    }\n",
       "\n",
       "    .dataframe thead th {\n",
       "        text-align: right;\n",
       "    }\n",
       "</style>\n",
       "<table border=\"1\" class=\"dataframe\">\n",
       "  <thead>\n",
       "    <tr style=\"text-align: right;\">\n",
       "      <th></th>\n",
       "      <th>PULocationID</th>\n",
       "      <th>DOLocationID</th>\n",
       "      <th>tpep_pickup_datetime</th>\n",
       "      <th>tpep_dropoff_datetime</th>\n",
       "    </tr>\n",
       "  </thead>\n",
       "  <tbody>\n",
       "    <tr>\n",
       "      <th>0</th>\n",
       "      <td>NaN</td>\n",
       "      <td>NaN</td>\n",
       "      <td>2023-01-01 01:01:00</td>\n",
       "      <td>2023-01-01 01:10:00</td>\n",
       "    </tr>\n",
       "    <tr>\n",
       "      <th>1</th>\n",
       "      <td>1.0</td>\n",
       "      <td>1.0</td>\n",
       "      <td>2023-01-01 01:02:00</td>\n",
       "      <td>2023-01-01 01:10:00</td>\n",
       "    </tr>\n",
       "    <tr>\n",
       "      <th>2</th>\n",
       "      <td>1.0</td>\n",
       "      <td>NaN</td>\n",
       "      <td>2023-01-01 01:02:00</td>\n",
       "      <td>2023-01-01 01:02:59</td>\n",
       "    </tr>\n",
       "    <tr>\n",
       "      <th>3</th>\n",
       "      <td>3.0</td>\n",
       "      <td>4.0</td>\n",
       "      <td>2023-01-01 01:02:00</td>\n",
       "      <td>2023-01-01 02:02:01</td>\n",
       "    </tr>\n",
       "  </tbody>\n",
       "</table>\n",
       "</div>"
      ],
      "text/plain": [
       "   PULocationID  DOLocationID tpep_pickup_datetime tpep_dropoff_datetime\n",
       "0           NaN           NaN  2023-01-01 01:01:00   2023-01-01 01:10:00\n",
       "1           1.0           1.0  2023-01-01 01:02:00   2023-01-01 01:10:00\n",
       "2           1.0           NaN  2023-01-01 01:02:00   2023-01-01 01:02:59\n",
       "3           3.0           4.0  2023-01-01 01:02:00   2023-01-01 02:02:01"
      ]
     },
     "execution_count": 8,
     "metadata": {},
     "output_type": "execute_result"
    }
   ],
   "source": [
    "df"
   ]
  },
  {
   "cell_type": "code",
   "execution_count": 10,
   "id": "5356bc32-871f-4a86-80b0-3d32078564be",
   "metadata": {},
   "outputs": [],
   "source": [
    "df_out = pd.read_parquet('/workspaces/mlops_zoomcamp_2024/06-best_practice/homework/predicted_data/taxi_type=yellow_year={year:04d}_month={month:02d}.parquet')"
   ]
  },
  {
   "cell_type": "code",
   "execution_count": 13,
   "id": "2fdeae07-ac19-4de4-9804-eb17acf0a57e",
   "metadata": {},
   "outputs": [
    {
     "data": {
      "text/html": [
       "<div>\n",
       "<style scoped>\n",
       "    .dataframe tbody tr th:only-of-type {\n",
       "        vertical-align: middle;\n",
       "    }\n",
       "\n",
       "    .dataframe tbody tr th {\n",
       "        vertical-align: top;\n",
       "    }\n",
       "\n",
       "    .dataframe thead th {\n",
       "        text-align: right;\n",
       "    }\n",
       "</style>\n",
       "<table border=\"1\" class=\"dataframe\">\n",
       "  <thead>\n",
       "    <tr style=\"text-align: right;\">\n",
       "      <th></th>\n",
       "      <th>ride_id</th>\n",
       "      <th>predicted_duration</th>\n",
       "    </tr>\n",
       "  </thead>\n",
       "  <tbody>\n",
       "    <tr>\n",
       "      <th>0</th>\n",
       "      <td>2023/03_0</td>\n",
       "      <td>16.245906</td>\n",
       "    </tr>\n",
       "    <tr>\n",
       "      <th>1</th>\n",
       "      <td>2023/03_1</td>\n",
       "      <td>26.134796</td>\n",
       "    </tr>\n",
       "    <tr>\n",
       "      <th>2</th>\n",
       "      <td>2023/03_2</td>\n",
       "      <td>11.884264</td>\n",
       "    </tr>\n",
       "    <tr>\n",
       "      <th>3</th>\n",
       "      <td>2023/03_3</td>\n",
       "      <td>11.997720</td>\n",
       "    </tr>\n",
       "    <tr>\n",
       "      <th>4</th>\n",
       "      <td>2023/03_4</td>\n",
       "      <td>10.234486</td>\n",
       "    </tr>\n",
       "    <tr>\n",
       "      <th>...</th>\n",
       "      <td>...</td>\n",
       "      <td>...</td>\n",
       "    </tr>\n",
       "    <tr>\n",
       "      <th>3316211</th>\n",
       "      <td>2023/03_3403761</td>\n",
       "      <td>11.952635</td>\n",
       "    </tr>\n",
       "    <tr>\n",
       "      <th>3316212</th>\n",
       "      <td>2023/03_3403762</td>\n",
       "      <td>20.049958</td>\n",
       "    </tr>\n",
       "    <tr>\n",
       "      <th>3316213</th>\n",
       "      <td>2023/03_3403763</td>\n",
       "      <td>11.595336</td>\n",
       "    </tr>\n",
       "    <tr>\n",
       "      <th>3316214</th>\n",
       "      <td>2023/03_3403764</td>\n",
       "      <td>13.113178</td>\n",
       "    </tr>\n",
       "    <tr>\n",
       "      <th>3316215</th>\n",
       "      <td>2023/03_3403765</td>\n",
       "      <td>12.899992</td>\n",
       "    </tr>\n",
       "  </tbody>\n",
       "</table>\n",
       "<p>3316216 rows × 2 columns</p>\n",
       "</div>"
      ],
      "text/plain": [
       "                 ride_id  predicted_duration\n",
       "0              2023/03_0           16.245906\n",
       "1              2023/03_1           26.134796\n",
       "2              2023/03_2           11.884264\n",
       "3              2023/03_3           11.997720\n",
       "4              2023/03_4           10.234486\n",
       "...                  ...                 ...\n",
       "3316211  2023/03_3403761           11.952635\n",
       "3316212  2023/03_3403762           20.049958\n",
       "3316213  2023/03_3403763           11.595336\n",
       "3316214  2023/03_3403764           13.113178\n",
       "3316215  2023/03_3403765           12.899992\n",
       "\n",
       "[3316216 rows x 2 columns]"
      ]
     },
     "execution_count": 13,
     "metadata": {},
     "output_type": "execute_result"
    }
   ],
   "source": [
    "df_out"
   ]
  },
  {
   "cell_type": "markdown",
   "id": "c0d21f43-e1f7-4a4d-ac70-e45ae09b0a2f",
   "metadata": {},
   "source": [
    "Create a first unit test"
   ]
  },
  {
   "cell_type": "code",
   "execution_count": null,
   "id": "9fe0f78a-8052-4019-ab6a-a9bf5ae5cfa5",
   "metadata": {},
   "outputs": [],
   "source": [
    "import pytest\n",
    "import pandas as pd\n",
    "from datetime import datetime\n",
    "\n",
    "def dt(hour, minute, second=0):\n",
    "    return datetime(2023, 1, 1, hour, minute, second)\n",
    "\n",
    "def prepare_data(df, categorical):\n",
    "    df['duration'] = df['tpep_dropoff_datetime'] - df['tpep_pickup_datetime']\n",
    "    df['duration'] = df['duration'].dt.total_seconds() / 60\n",
    "\n",
    "    # Фильтрация по длительности поездки\n",
    "    df = df[(df['duration'] >= 1) & (df['duration'] <= 60)].copy()\n",
    "\n",
    "    # Преобразование столбцов categorical в строковый тип\n",
    "    df[categorical] = df[categorical].fillna(-1).astype('int').astype('str')\n",
    "    \n",
    "    return df\n",
    "\n",
    "\n",
    "def test_prepare():\n",
    "    # Test data\n",
    "    test_data = [\n",
    "        (None, None, dt(1, 1), dt(1, 10)),   # поездка 9 минут (подходит)\n",
    "        (1, 1, dt(1, 2), dt(1, 10)),         # поездка 8 минут (подходит)\n",
    "        (1, None, dt(1, 2, 0), dt(1, 2, 59)),# поездка 59 секунд (не подходит)\n",
    "        (3, 4, dt(1, 2, 0), dt(2, 2, 1)),    # поездка 24 часа и 1 секунда (не подходит)\n",
    "    ]\n",
    "\n",
    "    columns = ['PULocationID', 'DOLocationID', 'tpep_pickup_datetime', 'tpep_dropoff_datetime']\n",
    "    test_df = pd.DataFrame(test_data, columns=columns)\n",
    "\n",
    "    # Expected data\n",
    "    expected_data = [\n",
    "        (-1, -1, dt(1, 1), dt(1, 10), 9.0),  # поездка 9 минут\n",
    "        (1, 1, dt(1, 2), dt(1, 10), 8.0),       # поездка 8 минут\n",
    "    ]\n",
    "\n",
    "    expected_columns = ['PULocationID', 'DOLocationID', 'tpep_pickup_datetime', 'tpep_dropoff_datetime', 'duration']\n",
    "    expected_df = pd.DataFrame(expected_data, columns=expected_columns)\n",
    "    expected_df['PULocationID'] = expected_df['PULocationID'].astype(str)\n",
    "    expected_df['DOLocationID'] = expected_df['DOLocationID'].astype(str)\n",
    "\n",
    "    # Run function\n",
    "    categorical = ['PULocationID', 'DOLocationID']\n",
    "    result_df = prepare_data(test_df, categorical)\n",
    "\n",
    "    # Assert the result\n",
    "    pd.testing.assert_frame_equal(result_df, expected_df, check_dtype=True)\n",
    "\n",
    "\n",
    "\n",
    "if __name__ == \"__main__\":\n",
    "    pytest.main([__file__])\n"
   ]
  },
  {
   "cell_type": "markdown",
   "id": "2d70aeb6-1176-44bb-a9ca-f677156a90b8",
   "metadata": {},
   "source": [
    "How many rows should be there in the expected dataframe?\n",
    "\n",
    "- 1\n",
    "- 2\n",
    "- 3\n",
    "- 4"
   ]
  },
  {
   "cell_type": "markdown",
   "id": "e2597cca-02f8-4ea6-b33c-fff0aaeb2084",
   "metadata": {},
   "source": [
    "### Answer:\n",
    "- 2"
   ]
  },
  {
   "cell_type": "markdown",
   "id": "017bf833-9c84-4813-8934-46f7f01bb076",
   "metadata": {},
   "source": [
    "## Q4. Mocking S3 with Localstack\n",
    "Now let's prepare for an integration test. In our script, we write data to S3. So we'll use Localstack to mimic S3.\n",
    "\n",
    "First, let's run Localstack with Docker compose. Let's create a docker-compose.yaml file with just one service: localstack. Inside localstack, we're only interested in running S3.\n",
    "\n",
    "Start the service and test it by creating a bucket where we'll keep the output. Let's call it \"nyc-duration\".\n",
    "\n",
    "With AWS CLI, this is how we create a bucket:"
   ]
  },
  {
   "cell_type": "markdown",
   "id": "b16674a9-67e5-4335-9f55-0c0bf451b14f",
   "metadata": {},
   "source": [
    "```aws s3 mb s3://nyc-duration```"
   ]
  },
  {
   "cell_type": "markdown",
   "id": "f85a8ea2-1d99-4c32-9466-7d04f13820b0",
   "metadata": {},
   "source": [
    "Then we need to check that the bucket was successfully created. With AWS, this is how we typically do it:\n",
    "\n"
   ]
  },
  {
   "cell_type": "markdown",
   "id": "7f7365d5-acf5-4fc1-8c41-2280c951aecc",
   "metadata": {},
   "source": [
    "```aws s3 ls```"
   ]
  },
  {
   "cell_type": "markdown",
   "id": "52cdec77-cba4-4ce7-ae40-50cf2db8b0aa",
   "metadata": {},
   "source": [
    "In both cases we should adjust commands for localstack. What option do we need to use for such purposes?\n",
    "```\n",
    "--backend-store-uri\n",
    "--profile\n",
    "--endpoint-url\n",
    "--version\n",
    "```"
   ]
  },
  {
   "cell_type": "markdown",
   "id": "f5ec4405-2b0f-423f-8871-b9ece8857495",
   "metadata": {},
   "source": [
    "### Answer:\n",
    "- --endpoint-url\n"
   ]
  },
  {
   "cell_type": "markdown",
   "id": "5550d034-4374-47a3-a512-d58773253898",
   "metadata": {},
   "source": [
    "## Make input and output paths configurable\n",
    "Right now the input and output paths are hardcoded, but we want to change it for the tests.\n",
    "\n",
    "One of the possible ways would be to specify ```INPUT_FILE_PATTERN``` and ```OUTPUT_FILE_PATTERN``` via the env variables. Let's do that:"
   ]
  },
  {
   "cell_type": "markdown",
   "id": "948f0e1f-f060-4e37-816d-3042b71526db",
   "metadata": {},
   "source": [
    "```\n",
    "export INPUT_FILE_PATTERN=\"s3://nyc-duration/in/{year:04d}-{month:02d}.parquet\"\n",
    "export OUTPUT_FILE_PATTERN=\"s3://nyc-duration/out/{year:04d}-{month:02d}.parquet\"\n",
    "\n",
    " ```"
   ]
  },
  {
   "cell_type": "markdown",
   "id": "84c3e432-2310-42f8-8ee4-f1a584e77b2a",
   "metadata": {},
   "source": [
    "And this is how we can read them:\n",
    "\n"
   ]
  },
  {
   "cell_type": "code",
   "execution_count": null,
   "id": "306fb675-2405-4d9a-bcb0-333d8b3c0f2c",
   "metadata": {},
   "outputs": [],
   "source": [
    "\n",
    "def get_input_path(year, month):\n",
    "    default_input_pattern = 'https://d37ci6vzurychx.cloudfront.net/trip-data/yellow_tripdata_{year:04d}-{month:02d}.parquet'\n",
    "    input_pattern = os.getenv('INPUT_FILE_PATTERN', default_input_pattern)\n",
    "    return input_pattern.format(year=year, month=month)\n",
    "\n",
    "\n",
    "def get_output_path(year, month):\n",
    "    default_output_pattern = 's3://nyc-duration-prediction-alexey/taxi_type=fhv/year={year:04d}/month={month:02d}/predictions.parquet'\n",
    "    output_pattern = os.getenv('OUTPUT_FILE_PATTERN', default_output_pattern)\n",
    "    return output_pattern.format(year=year, month=month)\n",
    "\n",
    "\n",
    "def main(year, month):\n",
    "    input_file = get_input_path(year, month)\n",
    "    output_file = get_output_path(year, month)\n",
    "    # rest of the main function ... "
   ]
  },
  {
   "cell_type": "markdown",
   "id": "85d70df9-907d-4dee-8245-43277c949d91",
   "metadata": {},
   "source": [
    "## Reading from Localstack S3 with Pandas\n"
   ]
  },
  {
   "cell_type": "markdown",
   "id": "839b1e2b-b914-48ef-a202-8ad58cbcd37a",
   "metadata": {},
   "source": [
    "So far we've been reading parquet files from S3 with using pandas read_parquet. But this way we read it from the actual S3 service. Now we need to replace it with our localstack one.\n",
    "\n",
    "For that, we need to specify the endpoint url:"
   ]
  },
  {
   "cell_type": "code",
   "execution_count": null,
   "id": "f89021e0-e8f2-42c2-a843-64b0e653b110",
   "metadata": {},
   "outputs": [],
   "source": [
    "options = {\n",
    "    'client_kwargs': {\n",
    "        'endpoint_url': S3_ENDPOINT_URL\n",
    "    }\n",
    "}\n",
    "\n",
    "df = pd.read_parquet('s3://bucket/file.parquet', storage_options=options)"
   ]
  },
  {
   "cell_type": "markdown",
   "id": "b1636a31-0587-4789-b6c6-eacc100545a2",
   "metadata": {},
   "source": [
    "Let's modify our read_data function:\n",
    "\n",
    "- check if S3_ENDPOINT_URL is set, and if it is, use it for reading\n",
    "- otherwise use the usual way"
   ]
  },
  {
   "cell_type": "markdown",
   "id": "aa57e50b-0020-4b5d-95b2-ec53878b333c",
   "metadata": {},
   "source": [
    "## Q5. Creating test data\n",
    "\n",
    "Now let's create ``integration_test.py``\n",
    "\n",
    "We'll use the dataframe we created in Q3 (the dataframe for the unit test) and save it to S3. You don't need to do anything else: just create a dataframe and save it.\n",
    "\n",
    "We will pretend that this is data for January 2023.\n",
    "\n",
    "Run the ```integration_test.py``` script. After that, use AWS CLI to verify that the file was created.\n",
    "\n",
    "Use this snipped for saving the file:"
   ]
  },
  {
   "cell_type": "code",
   "execution_count": null,
   "id": "dd4fa148-ef00-4729-a776-0b48a8973c54",
   "metadata": {},
   "outputs": [],
   "source": [
    "df_input.to_parquet(\n",
    "    input_file,\n",
    "    engine='pyarrow',\n",
    "    compression=None,\n",
    "    index=False,\n",
    "    storage_options=options\n",
    ")"
   ]
  },
  {
   "cell_type": "markdown",
   "id": "ddd4625b-bcb7-49b2-bc10-c7e08845e8dc",
   "metadata": {},
   "source": [
    "What's the size of the file?\n",
    "\n",
    "- 3620\n",
    "- 23620\n",
    "- 43620\n",
    "- 63620"
   ]
  },
  {
   "cell_type": "markdown",
   "id": "7b49ff18-537f-4847-adf7-528f771e707f",
   "metadata": {},
   "source": [
    "### Answer:"
   ]
  },
  {
   "attachments": {
    "a2e343f5-e303-4659-a6b4-d7a167beed1a.png": {
     "image/png": "[encoded data removed]"
    }
   },
   "cell_type": "markdown",
   "id": "687e1506-95ba-40b7-9b03-f3cfbd3f888e",
   "metadata": {},
   "source": [
    "![image.png](attachment:a2e343f5-e303-4659-a6b4-d7a167beed1a.png)"
   ]
  },
  {
   "cell_type": "markdown",
   "id": "f6f7a9f1-c0b8-4fa3-914c-624165175709",
   "metadata": {},
   "source": [
    "- 3620"
   ]
  },
  {
   "cell_type": "markdown",
   "id": "7d41d78e-9ea4-4401-b4bd-fad55245be0c",
   "metadata": {},
   "source": [
    "## Q6. Finish the integration test\n",
    "\n",
    "We can read from our localstack s3, but we also need to write to it.\n",
    "\n",
    "Create a function ```save_data``` which works similarly to ```read_data```, but we use it for saving a dataframe.\n",
    "\n",
    "Let's run the ```batch.py``` script for January 2023 (the fake data we created in Q5).\n",
    "\n",
    "We can do that from our integration test in Python: we can use ```os.system``` for doing that (there are other options too).\n",
    "\n",
    "Now it saves the result to localstack.\n",
    "\n",
    "The only thing we need to do now is to read this data and verify the result is correct.\n"
   ]
  },
  {
   "cell_type": "markdown",
   "id": "6c1b00bc-91be-4606-8f3a-69d0dee07af8",
   "metadata": {},
   "source": [
    "What's the sum of predicted durations for the test dataframe?\n",
    "\n",
    "- 13.08\n",
    "- 36.28\n",
    "- 69.28\n",
    "- 81.08"
   ]
  },
  {
   "cell_type": "markdown",
   "id": "a65dd77d-b4de-4386-a55b-589658800eb0",
   "metadata": {},
   "source": [
    "Read the data from s3"
   ]
  },
  {
   "cell_type": "code",
   "execution_count": 7,
   "id": "49343f3f-df83-45a9-8014-5eab7a4c0464",
   "metadata": {},
   "outputs": [],
   "source": [
    "import pandas as pd\n",
    "import boto3\n",
    "import io\n",
    "\n",
    "\n",
    "def read_from_s3(bucket_name, key, endpoint_url='http://localhost:4566'):\n",
    "    s3_client = boto3.client('s3', endpoint_url=endpoint_url)\n",
    "    \n",
    "    response = s3_client.get_object(Bucket=bucket_name, Key=key)\n",
    "    \n",
    "    data = response['Body'].read()\n",
    "    \n",
    "    df = pd.read_parquet(io.BytesIO(data))\n",
    "    \n",
    "    return df"
   ]
  },
  {
   "cell_type": "code",
   "execution_count": 9,
   "id": "768cb937-efa1-4c22-9831-f2945718ddf1",
   "metadata": {},
   "outputs": [],
   "source": [
    "df = read_from_s3('nyc-duration', 'predicted_data/taxi_type=yellow_year=2023_month=01.parquet')"
   ]
  },
  {
   "cell_type": "code",
   "execution_count": 10,
   "id": "37057a82-d9bb-4cc2-b0a4-e1db7425b2f9",
   "metadata": {},
   "outputs": [
    {
     "data": {
      "text/html": [
       "<div>\n",
       "<style scoped>\n",
       "    .dataframe tbody tr th:only-of-type {\n",
       "        vertical-align: middle;\n",
       "    }\n",
       "\n",
       "    .dataframe tbody tr th {\n",
       "        vertical-align: top;\n",
       "    }\n",
       "\n",
       "    .dataframe thead th {\n",
       "        text-align: right;\n",
       "    }\n",
       "</style>\n",
       "<table border=\"1\" class=\"dataframe\">\n",
       "  <thead>\n",
       "    <tr style=\"text-align: right;\">\n",
       "      <th></th>\n",
       "      <th>ride_id</th>\n",
       "      <th>predicted_duration</th>\n",
       "    </tr>\n",
       "  </thead>\n",
       "  <tbody>\n",
       "    <tr>\n",
       "      <th>0</th>\n",
       "      <td>2023/01_0</td>\n",
       "      <td>23.197149</td>\n",
       "    </tr>\n",
       "    <tr>\n",
       "      <th>1</th>\n",
       "      <td>2023/01_1</td>\n",
       "      <td>13.080101</td>\n",
       "    </tr>\n",
       "  </tbody>\n",
       "</table>\n",
       "</div>"
      ],
      "text/plain": [
       "     ride_id  predicted_duration\n",
       "0  2023/01_0           23.197149\n",
       "1  2023/01_1           13.080101"
      ]
     },
     "execution_count": 10,
     "metadata": {},
     "output_type": "execute_result"
    }
   ],
   "source": [
    "df"
   ]
  },
  {
   "cell_type": "code",
   "execution_count": 13,
   "id": "79533438-c564-4cf7-9163-d8f0281038a1",
   "metadata": {},
   "outputs": [
    {
     "data": {
      "text/plain": [
       "36.28"
      ]
     },
     "execution_count": 13,
     "metadata": {},
     "output_type": "execute_result"
    }
   ],
   "source": [
    "df.predicted_duration.sum().round(2)"
   ]
  },
  {
   "cell_type": "markdown",
   "id": "ba8d9394-22f8-4b6e-9108-c6ebc1006bb4",
   "metadata": {},
   "source": [
    "### Answer:\n",
    "- 36.28"
   ]
  },
  {
   "cell_type": "code",
   "execution_count": null,
   "id": "7016cdff-435e-45b3-8bc6-dd65e78b8f4a",
   "metadata": {},
   "outputs": [],
   "source": []
  }
 ],
 "metadata": {
  "kernelspec": {
   "display_name": "Python 3 (ipykernel)",
   "language": "python",
   "name": "python3"
  },
  "language_info": {
   "codemirror_mode": {
    "name": "ipython",
    "version": 3
   },
   "file_extension": ".py",
   "mimetype": "text/x-python",
   "name": "python",
   "nbconvert_exporter": "python",
   "pygments_lexer": "ipython3",
   "version": "3.10.13"
  }
 },
 "nbformat": 4,
 "nbformat_minor": 5
}
