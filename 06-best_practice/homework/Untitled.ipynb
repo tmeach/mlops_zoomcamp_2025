{
 "cells": [
  {
   "cell_type": "markdown",
   "id": "dd1d7ae7-6f78-4b1a-b33e-57546fe5d6b7",
   "metadata": {},
   "source": [
    "## Homework\n",
    "In this homework, we'll take the ride duration prediction model that we deployed in batch mode in homework 4 and improve the reliability of our code with unit and integration tests.\n",
    "\n",
    "You'll find the starter code in the [homework](https://github.com/DataTalksClub/mlops-zoomcamp/blob/main/cohorts/2024/06-best-practices/homework) directory."
   ]
  },
  {
   "cell_type": "markdown",
   "id": "262d308c-1524-4d50-9eb5-c8f94938de63",
   "metadata": {},
   "source": [
    "## Q1. Refactoring\n",
    "Before we can start covering our code with tests, we need to refactor it. We'll start by getting rid of all the global variables.\n",
    "\n",
    "Let's create a function **main** with two parameters: **year** and **month**.\n",
    "Move all the code (except **read_data**) inside **main**\n",
    "Make **categorical** a parameter for **read_data** and pass it inside **main**\n",
    "Now we need to create the \"main\" block from which we'll invoke the main function. How does the if statement that we use for this looks like?\n",
    "\n",
    "Hint: after refactoring, check that the code still works. Just run it e.g. for March 2023 and see if it finishes successfully.\n",
    "\n",
    "To make it easier to run it, you can write results to your local filesystem. E.g. here:"
   ]
  },
  {
   "cell_type": "markdown",
   "id": "710c52ba-996a-469c-879a-6c9de3348c11",
   "metadata": {},
   "source": [
    "**output_file = f'taxi_type=yellow_year={year:04d}_month={month:02d}.parquet'**"
   ]
  },
  {
   "cell_type": "code",
   "execution_count": 1,
   "id": "0401e2e2-373f-48e0-9e2e-b53870ae7fc4",
   "metadata": {},
   "outputs": [],
   "source": [
    "import sys\n",
    "import pickle\n",
    "import pandas as pd"
   ]
  },
  {
   "cell_type": "code",
   "execution_count": 2,
   "id": "73e6aec9-d33e-49ac-be34-f58cfff296e2",
   "metadata": {},
   "outputs": [],
   "source": [
    "def main (year, month):\n",
    "    year = int(sys.argv[1])\n",
    "    month = int(sys.argv[2])\n",
    "    \n",
    "    input_file = f'https://d37ci6vzurychx.cloudfront.net/trip-data/yellow_tripdata_{year:04d}-{month:02d}.parquet'\n",
    "    output_file = f'output/yellow_tripdata_{year:04d}-{month:02d}.parquet'\n",
    "    \n",
    "    with open('model.bin', 'rb') as f_in:\n",
    "        dv, lr = pickle.load(f_in)\n",
    "\n",
    "    categorical = ['PULocationID', 'DOLocationID']\n",
    "    \n",
    "\n",
    "def read_data(filename, categorical):\n",
    "    df = pd.read_parquet(filename)\n",
    "    \n",
    "    df['duration'] = df.tpep_dropoff_datetime - df.tpep_pickup_datetime\n",
    "    df['duration'] = df.duration.dt.total_seconds() / 60\n",
    "\n",
    "    df = df[(df.duration >= 1) & (df.duration <= 60)].copy()\n",
    "\n",
    "    df[categorical] = df[categorical].fillna(-1).astype('int').astype('str')\n",
    "    \n",
    "    return df"
   ]
  },
  {
   "cell_type": "markdown",
   "id": "ce8b268e-c091-475b-a345-20358855a34b",
   "metadata": {},
   "source": [
    "## Q2. Installing pytest\n",
    "Now we need to install pytest:\n",
    "\n",
    "bash```\n",
    "pipenv install --dev pytest```\n",
    "\n",
    "Next, create a folder tests and create two files. One will be the file with tests. We can name it test_batch.py.\n",
    "\n",
    "What should be the other file?\n",
    "\n",
    "Hint: to be able to test batch.py, we need to be able to import it. Without this other file, we won't be able to do it."
   ]
  },
  {
   "cell_type": "markdown",
   "id": "2ee68715-6cc9-469e-b0e8-0d06523a3b6f",
   "metadata": {},
   "source": [
    "### Answer:\n",
    "\n",
    "__init__.py"
   ]
  },
  {
   "cell_type": "markdown",
   "id": "2c490977-a3fb-4ac0-98a5-780f9005a124",
   "metadata": {},
   "source": [
    "## Q3. Writing first unit test\n",
    "Now let's cover our code with unit tests.\n",
    "\n",
    "We'll start with the pre-processing logic inside read_data.\n",
    "\n",
    "It's difficult to test right now because first reads the file and then performs some transformations. We need to split this code into two parts: reading (I/O) and transformation.\n",
    "\n",
    "So let's create a function prepare_data that takes in a dataframe (and some other parameters too) and applies some transformation to it.\n",
    "\n",
    "(That's basically the entire read_data function after reading the parquet file)\n",
    "\n",
    "Now create a test and use this as input:"
   ]
  },
  {
   "cell_type": "code",
   "execution_count": 6,
   "id": "91adb679-82a3-43ed-8cbb-12e836bdb964",
   "metadata": {},
   "outputs": [],
   "source": [
    "import pandas as pd \n",
    "from datetime import datetime\n",
    "\n",
    "from datetime import datetime\n",
    "\n",
    "def dt(hour, minute, second=0):\n",
    "    return datetime(2023, 1, 1, hour, minute, second)\n",
    "\n",
    "\n",
    "data = [\n",
    "    (None, None, dt(1, 1), dt(1, 10)),\n",
    "    (1, 1, dt(1, 2), dt(1, 10)),\n",
    "    (1, None, dt(1, 2, 0), dt(1, 2, 59)),\n",
    "    (3, 4, dt(1, 2, 0), dt(2, 2, 1)),      \n",
    "]\n",
    "\n",
    "columns = ['PULocationID', 'DOLocationID', 'tpep_pickup_datetime', 'tpep_dropoff_datetime']\n",
    "df = pd.DataFrame(data, columns=columns)"
   ]
  },
  {
   "cell_type": "code",
   "execution_count": 8,
   "id": "c01a56b2-e47b-4459-870f-5a3b8ebfd528",
   "metadata": {},
   "outputs": [
    {
     "data": {
      "text/html": [
       "<div>\n",
       "<style scoped>\n",
       "    .dataframe tbody tr th:only-of-type {\n",
       "        vertical-align: middle;\n",
       "    }\n",
       "\n",
       "    .dataframe tbody tr th {\n",
       "        vertical-align: top;\n",
       "    }\n",
       "\n",
       "    .dataframe thead th {\n",
       "        text-align: right;\n",
       "    }\n",
       "</style>\n",
       "<table border=\"1\" class=\"dataframe\">\n",
       "  <thead>\n",
       "    <tr style=\"text-align: right;\">\n",
       "      <th></th>\n",
       "      <th>PULocationID</th>\n",
       "      <th>DOLocationID</th>\n",
       "      <th>tpep_pickup_datetime</th>\n",
       "      <th>tpep_dropoff_datetime</th>\n",
       "    </tr>\n",
       "  </thead>\n",
       "  <tbody>\n",
       "    <tr>\n",
       "      <th>0</th>\n",
       "      <td>NaN</td>\n",
       "      <td>NaN</td>\n",
       "      <td>2023-01-01 01:01:00</td>\n",
       "      <td>2023-01-01 01:10:00</td>\n",
       "    </tr>\n",
       "    <tr>\n",
       "      <th>1</th>\n",
       "      <td>1.0</td>\n",
       "      <td>1.0</td>\n",
       "      <td>2023-01-01 01:02:00</td>\n",
       "      <td>2023-01-01 01:10:00</td>\n",
       "    </tr>\n",
       "    <tr>\n",
       "      <th>2</th>\n",
       "      <td>1.0</td>\n",
       "      <td>NaN</td>\n",
       "      <td>2023-01-01 01:02:00</td>\n",
       "      <td>2023-01-01 01:02:59</td>\n",
       "    </tr>\n",
       "    <tr>\n",
       "      <th>3</th>\n",
       "      <td>3.0</td>\n",
       "      <td>4.0</td>\n",
       "      <td>2023-01-01 01:02:00</td>\n",
       "      <td>2023-01-01 02:02:01</td>\n",
       "    </tr>\n",
       "  </tbody>\n",
       "</table>\n",
       "</div>"
      ],
      "text/plain": [
       "   PULocationID  DOLocationID tpep_pickup_datetime tpep_dropoff_datetime\n",
       "0           NaN           NaN  2023-01-01 01:01:00   2023-01-01 01:10:00\n",
       "1           1.0           1.0  2023-01-01 01:02:00   2023-01-01 01:10:00\n",
       "2           1.0           NaN  2023-01-01 01:02:00   2023-01-01 01:02:59\n",
       "3           3.0           4.0  2023-01-01 01:02:00   2023-01-01 02:02:01"
      ]
     },
     "execution_count": 8,
     "metadata": {},
     "output_type": "execute_result"
    }
   ],
   "source": [
    "df"
   ]
  },
  {
   "cell_type": "code",
   "execution_count": 10,
   "id": "5356bc32-871f-4a86-80b0-3d32078564be",
   "metadata": {},
   "outputs": [],
   "source": [
    "df_out = pd.read_parquet('/workspaces/mlops_zoomcamp_2024/06-best_practice/homework/predicted_data/taxi_type=yellow_year={year:04d}_month={month:02d}.parquet')"
   ]
  },
  {
   "cell_type": "code",
   "execution_count": 13,
   "id": "2fdeae07-ac19-4de4-9804-eb17acf0a57e",
   "metadata": {},
   "outputs": [
    {
     "data": {
      "text/html": [
       "<div>\n",
       "<style scoped>\n",
       "    .dataframe tbody tr th:only-of-type {\n",
       "        vertical-align: middle;\n",
       "    }\n",
       "\n",
       "    .dataframe tbody tr th {\n",
       "        vertical-align: top;\n",
       "    }\n",
       "\n",
       "    .dataframe thead th {\n",
       "        text-align: right;\n",
       "    }\n",
       "</style>\n",
       "<table border=\"1\" class=\"dataframe\">\n",
       "  <thead>\n",
       "    <tr style=\"text-align: right;\">\n",
       "      <th></th>\n",
       "      <th>ride_id</th>\n",
       "      <th>predicted_duration</th>\n",
       "    </tr>\n",
       "  </thead>\n",
       "  <tbody>\n",
       "    <tr>\n",
       "      <th>0</th>\n",
       "      <td>2023/03_0</td>\n",
       "      <td>16.245906</td>\n",
       "    </tr>\n",
       "    <tr>\n",
       "      <th>1</th>\n",
       "      <td>2023/03_1</td>\n",
       "      <td>26.134796</td>\n",
       "    </tr>\n",
       "    <tr>\n",
       "      <th>2</th>\n",
       "      <td>2023/03_2</td>\n",
       "      <td>11.884264</td>\n",
       "    </tr>\n",
       "    <tr>\n",
       "      <th>3</th>\n",
       "      <td>2023/03_3</td>\n",
       "      <td>11.997720</td>\n",
       "    </tr>\n",
       "    <tr>\n",
       "      <th>4</th>\n",
       "      <td>2023/03_4</td>\n",
       "      <td>10.234486</td>\n",
       "    </tr>\n",
       "    <tr>\n",
       "      <th>...</th>\n",
       "      <td>...</td>\n",
       "      <td>...</td>\n",
       "    </tr>\n",
       "    <tr>\n",
       "      <th>3316211</th>\n",
       "      <td>2023/03_3403761</td>\n",
       "      <td>11.952635</td>\n",
       "    </tr>\n",
       "    <tr>\n",
       "      <th>3316212</th>\n",
       "      <td>2023/03_3403762</td>\n",
       "      <td>20.049958</td>\n",
       "    </tr>\n",
       "    <tr>\n",
       "      <th>3316213</th>\n",
       "      <td>2023/03_3403763</td>\n",
       "      <td>11.595336</td>\n",
       "    </tr>\n",
       "    <tr>\n",
       "      <th>3316214</th>\n",
       "      <td>2023/03_3403764</td>\n",
       "      <td>13.113178</td>\n",
       "    </tr>\n",
       "    <tr>\n",
       "      <th>3316215</th>\n",
       "      <td>2023/03_3403765</td>\n",
       "      <td>12.899992</td>\n",
       "    </tr>\n",
       "  </tbody>\n",
       "</table>\n",
       "<p>3316216 rows × 2 columns</p>\n",
       "</div>"
      ],
      "text/plain": [
       "                 ride_id  predicted_duration\n",
       "0              2023/03_0           16.245906\n",
       "1              2023/03_1           26.134796\n",
       "2              2023/03_2           11.884264\n",
       "3              2023/03_3           11.997720\n",
       "4              2023/03_4           10.234486\n",
       "...                  ...                 ...\n",
       "3316211  2023/03_3403761           11.952635\n",
       "3316212  2023/03_3403762           20.049958\n",
       "3316213  2023/03_3403763           11.595336\n",
       "3316214  2023/03_3403764           13.113178\n",
       "3316215  2023/03_3403765           12.899992\n",
       "\n",
       "[3316216 rows x 2 columns]"
      ]
     },
     "execution_count": 13,
     "metadata": {},
     "output_type": "execute_result"
    }
   ],
   "source": [
    "df_out"
   ]
  },
  {
   "cell_type": "markdown",
   "id": "c0d21f43-e1f7-4a4d-ac70-e45ae09b0a2f",
   "metadata": {},
   "source": [
    "Create a first unit test"
   ]
  },
  {
   "cell_type": "code",
   "execution_count": null,
   "id": "9fe0f78a-8052-4019-ab6a-a9bf5ae5cfa5",
   "metadata": {},
   "outputs": [],
   "source": [
    "import pytest\n",
    "import pandas as pd\n",
    "from datetime import datetime\n",
    "\n",
    "def dt(hour, minute, second=0):\n",
    "    return datetime(2023, 1, 1, hour, minute, second)\n",
    "\n",
    "def prepare_data(df, categorical):\n",
    "    df['duration'] = df['tpep_dropoff_datetime'] - df['tpep_pickup_datetime']\n",
    "    df['duration'] = df['duration'].dt.total_seconds() / 60\n",
    "\n",
    "    # Фильтрация по длительности поездки\n",
    "    df = df[(df['duration'] >= 1) & (df['duration'] <= 60)].copy()\n",
    "\n",
    "    # Преобразование столбцов categorical в строковый тип\n",
    "    df[categorical] = df[categorical].fillna(-1).astype('int').astype('str')\n",
    "    \n",
    "    return df\n",
    "\n",
    "\n",
    "def test_prepare():\n",
    "    # Test data\n",
    "    test_data = [\n",
    "        (None, None, dt(1, 1), dt(1, 10)),   # поездка 9 минут (подходит)\n",
    "        (1, 1, dt(1, 2), dt(1, 10)),         # поездка 8 минут (подходит)\n",
    "        (1, None, dt(1, 2, 0), dt(1, 2, 59)),# поездка 59 секунд (не подходит)\n",
    "        (3, 4, dt(1, 2, 0), dt(2, 2, 1)),    # поездка 24 часа и 1 секунда (не подходит)\n",
    "    ]\n",
    "\n",
    "    columns = ['PULocationID', 'DOLocationID', 'tpep_pickup_datetime', 'tpep_dropoff_datetime']\n",
    "    test_df = pd.DataFrame(test_data, columns=columns)\n",
    "\n",
    "    # Expected data\n",
    "    expected_data = [\n",
    "        (-1, -1, dt(1, 1), dt(1, 10), 9.0),  # поездка 9 минут\n",
    "        (1, 1, dt(1, 2), dt(1, 10), 8.0),       # поездка 8 минут\n",
    "    ]\n",
    "\n",
    "    expected_columns = ['PULocationID', 'DOLocationID', 'tpep_pickup_datetime', 'tpep_dropoff_datetime', 'duration']\n",
    "    expected_df = pd.DataFrame(expected_data, columns=expected_columns)\n",
    "    expected_df['PULocationID'] = expected_df['PULocationID'].astype(str)\n",
    "    expected_df['DOLocationID'] = expected_df['DOLocationID'].astype(str)\n",
    "\n",
    "    # Run function\n",
    "    categorical = ['PULocationID', 'DOLocationID']\n",
    "    result_df = prepare_data(test_df, categorical)\n",
    "\n",
    "    # Assert the result\n",
    "    pd.testing.assert_frame_equal(result_df, expected_df, check_dtype=True)\n",
    "\n",
    "\n",
    "\n",
    "if __name__ == \"__main__\":\n",
    "    pytest.main([__file__])\n"
   ]
  },
  {
   "cell_type": "markdown",
   "id": "2d70aeb6-1176-44bb-a9ca-f677156a90b8",
   "metadata": {},
   "source": [
    "How many rows should be there in the expected dataframe?\n",
    "\n",
    "- 1\n",
    "- 2\n",
    "- 3\n",
    "- 4"
   ]
  },
  {
   "cell_type": "markdown",
   "id": "e2597cca-02f8-4ea6-b33c-fff0aaeb2084",
   "metadata": {},
   "source": [
    "### Answer:\n",
    "- 2"
   ]
  },
  {
   "cell_type": "markdown",
   "id": "017bf833-9c84-4813-8934-46f7f01bb076",
   "metadata": {},
   "source": [
    "## Q4. Mocking S3 with Localstack\n",
    "Now let's prepare for an integration test. In our script, we write data to S3. So we'll use Localstack to mimic S3.\n",
    "\n",
    "First, let's run Localstack with Docker compose. Let's create a docker-compose.yaml file with just one service: localstack. Inside localstack, we're only interested in running S3.\n",
    "\n",
    "Start the service and test it by creating a bucket where we'll keep the output. Let's call it \"nyc-duration\".\n",
    "\n",
    "With AWS CLI, this is how we create a bucket:"
   ]
  },
  {
   "cell_type": "markdown",
   "id": "b16674a9-67e5-4335-9f55-0c0bf451b14f",
   "metadata": {},
   "source": [
    "```aws s3 mb s3://nyc-duration```"
   ]
  },
  {
   "cell_type": "markdown",
   "id": "f85a8ea2-1d99-4c32-9466-7d04f13820b0",
   "metadata": {},
   "source": [
    "Then we need to check that the bucket was successfully created. With AWS, this is how we typically do it:\n",
    "\n"
   ]
  },
  {
   "cell_type": "markdown",
   "id": "7f7365d5-acf5-4fc1-8c41-2280c951aecc",
   "metadata": {},
   "source": [
    "```aws s3 ls```"
   ]
  },
  {
   "cell_type": "markdown",
   "id": "52cdec77-cba4-4ce7-ae40-50cf2db8b0aa",
   "metadata": {},
   "source": [
    "In both cases we should adjust commands for localstack. What option do we need to use for such purposes?\n",
    "```\n",
    "--backend-store-uri\n",
    "--profile\n",
    "--endpoint-url\n",
    "--version\n",
    "```"
   ]
  },
  {
   "cell_type": "markdown",
   "id": "f5ec4405-2b0f-423f-8871-b9ece8857495",
   "metadata": {},
   "source": [
    "### Answer:\n",
    "- --endpoint-url\n"
   ]
  },
  {
   "cell_type": "markdown",
   "id": "5550d034-4374-47a3-a512-d58773253898",
   "metadata": {},
   "source": [
    "## Make input and output paths configurable\n",
    "Right now the input and output paths are hardcoded, but we want to change it for the tests.\n",
    "\n",
    "One of the possible ways would be to specify ```INPUT_FILE_PATTERN``` and ```OUTPUT_FILE_PATTERN``` via the env variables. Let's do that:"
   ]
  },
  {
   "cell_type": "markdown",
   "id": "948f0e1f-f060-4e37-816d-3042b71526db",
   "metadata": {},
   "source": [
    "```\n",
    "export INPUT_FILE_PATTERN=\"s3://nyc-duration/in/{year:04d}-{month:02d}.parquet\"\n",
    "export OUTPUT_FILE_PATTERN=\"s3://nyc-duration/out/{year:04d}-{month:02d}.parquet\"\n",
    "\n",
    " ```"
   ]
  },
  {
   "cell_type": "code",
   "execution_count": null,
   "id": "3d260cba-dd9f-4fd0-8a53-9ae57675891e",
   "metadata": {},
   "outputs": [],
   "source": []
  },
  {
   "cell_type": "code",
   "execution_count": null,
   "id": "d24aea41-dc9f-467f-b695-92eb48ccaa1c",
   "metadata": {},
   "outputs": [],
   "source": []
  },
  {
   "cell_type": "code",
   "execution_count": null,
   "id": "3b7363d1-2e66-4887-b666-12b91af57d7a",
   "metadata": {},
   "outputs": [],
   "source": []
  },
  {
   "cell_type": "code",
   "execution_count": null,
   "id": "f79c59bc-c9ec-452c-a34b-8c49b69a47c2",
   "metadata": {},
   "outputs": [],
   "source": []
  },
  {
   "cell_type": "code",
   "execution_count": null,
   "id": "928adc28-e5d1-4e65-8f0c-6d94de37bb2f",
   "metadata": {},
   "outputs": [],
   "source": []
  },
  {
   "cell_type": "code",
   "execution_count": null,
   "id": "61baeed3-3ca0-4cc1-84bf-99645831efa0",
   "metadata": {},
   "outputs": [],
   "source": []
  },
  {
   "cell_type": "code",
   "execution_count": null,
   "id": "6dad2861-cf37-4adc-9682-cfbdd2d42ed3",
   "metadata": {},
   "outputs": [],
   "source": []
  },
  {
   "cell_type": "code",
   "execution_count": null,
   "id": "49343f3f-df83-45a9-8014-5eab7a4c0464",
   "metadata": {},
   "outputs": [],
   "source": []
  },
  {
   "cell_type": "code",
   "execution_count": null,
   "id": "768cb937-efa1-4c22-9831-f2945718ddf1",
   "metadata": {},
   "outputs": [],
   "source": []
  },
  {
   "cell_type": "code",
   "execution_count": null,
   "id": "37057a82-d9bb-4cc2-b0a4-e1db7425b2f9",
   "metadata": {},
   "outputs": [],
   "source": []
  },
  {
   "cell_type": "code",
   "execution_count": null,
   "id": "79533438-c564-4cf7-9163-d8f0281038a1",
   "metadata": {},
   "outputs": [],
   "source": []
  },
  {
   "cell_type": "code",
   "execution_count": null,
   "id": "84fafdd5-c1eb-42ac-aa84-21550964c080",
   "metadata": {},
   "outputs": [],
   "source": []
  },
  {
   "cell_type": "code",
   "execution_count": null,
   "id": "7016cdff-435e-45b3-8bc6-dd65e78b8f4a",
   "metadata": {},
   "outputs": [],
   "source": []
  }
 ],
 "metadata": {
  "kernelspec": {
   "display_name": "Python 3 (ipykernel)",
   "language": "python",
   "name": "python3"
  },
  "language_info": {
   "codemirror_mode": {
    "name": "ipython",
    "version": 3
   },
   "file_extension": ".py",
   "mimetype": "text/x-python",
   "name": "python",
   "nbconvert_exporter": "python",
   "pygments_lexer": "ipython3",
   "version": "3.10.13"
  }
 },
 "nbformat": 4,
 "nbformat_minor": 5
}
